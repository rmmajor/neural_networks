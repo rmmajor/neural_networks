{
 "cells": [
  {
   "cell_type": "code",
   "execution_count": 30,
   "metadata": {
    "ExecuteTime": {
     "end_time": "2024-05-26T02:53:48.562138Z",
     "start_time": "2024-05-26T02:53:48.559224Z"
    },
    "executionInfo": {
     "elapsed": 528,
     "status": "ok",
     "timestamp": 1710845929540,
     "user": {
      "displayName": "Майор Роман Юрійович",
      "userId": "05489763065567701371"
     },
     "user_tz": -120
    },
    "id": "qMvuRFcDq0qB"
   },
   "source": [
    "\n",
    "from sklearn.metrics import r2_score\n",
    "\n",
    "# After training the model\n",
    "y_pred = model.predict(X_test)\n",
    "y_pred = y_pred if isinstance(y_pred, np.ndarray) else y_pred.numpy()  # Convert to numpy array if necessary\n",
    "\n",
    "r2 = r2_score(y_test, y_pred)\n",
    "print(f'R^2 score: {r2}')\n"
   ],
   "outputs": []
  },
  {
   "cell_type": "code",
   "execution_count": 3,
   "metadata": {
    "ExecuteTime": {
     "end_time": "2024-05-26T02:46:35.420740Z",
     "start_time": "2024-05-26T02:46:35.394212Z"
    },
    "executionInfo": {
     "elapsed": 14,
     "status": "ok",
     "timestamp": 1710829808518,
     "user": {
      "displayName": "Майор Роман Юрійович",
      "userId": "05489763065567701371"
     },
     "user_tz": -120
    },
    "id": "Timb2wb0oBy-"
   },
   "source": [
    "tf.config.optimizer.set_jit(True) # Enable XLA."
   ],
   "outputs": []
  },
  {
   "cell_type": "code",
   "execution_count": 4,
   "metadata": {
    "ExecuteTime": {
     "end_time": "2024-05-26T02:46:36.533982Z",
     "start_time": "2024-05-26T02:46:36.497298Z"
    },
    "colab": {
     "base_uri": "https://localhost:8080/"
    },
    "executionInfo": {
     "elapsed": 13,
     "status": "ok",
     "timestamp": 1710829808518,
     "user": {
      "displayName": "Майор Роман Юрійович",
      "userId": "05489763065567701371"
     },
     "user_tz": -120
    },
    "id": "ohGZwRFzorZO",
    "outputId": "c004f768-a829-4362-bb78-c3113a4f9309"
   },
   "source": [
    "if tf.test.gpu_device_name():\n",
    "    print('Default GPU Device: {}'.format(tf.test.gpu_device_name()))\n",
    "else:\n",
    "    print(\"Please install GPU version of TF\")"
   ],
   "outputs": []
  },
  {
   "cell_type": "markdown",
   "metadata": {
    "id": "dwJVFkY3tBcC"
   },
   "source": [
    "## Random dataset generated"
   ]
  },
  {
   "cell_type": "code",
   "execution_count": 5,
   "metadata": {
    "ExecuteTime": {
     "end_time": "2024-05-26T02:49:37.812239Z",
     "start_time": "2024-05-26T02:49:37.741404Z"
    },
    "colab": {
     "base_uri": "https://localhost:8080/"
    },
    "executionInfo": {
     "elapsed": 13,
     "status": "ok",
     "timestamp": 1710829808519,
     "user": {
      "displayName": "Майор Роман Юрійович",
      "userId": "05489763065567701371"
     },
     "user_tz": -120
    },
    "id": "_fn-KO5frkLy",
    "outputId": "2374d32e-e8cf-4331-86ee-9b841052d44a"
   },
   "source": [
    "n_samples = 150000\n",
    "n_features = 10\n",
    "X, y = make_friedman1(n_samples=n_samples, n_features=n_features, noise=1.0)\n",
    "X"
   ],
   "outputs": []
  },
  {
   "cell_type": "markdown",
   "metadata": {
    "id": "F01gg4xhxkw2"
   },
   "source": [
    "## Split dataset into train and test sets"
   ]
  },
  {
   "cell_type": "code",
   "execution_count": 6,
   "metadata": {
    "ExecuteTime": {
     "end_time": "2024-05-26T02:49:39.892067Z",
     "start_time": "2024-05-26T02:49:39.868866Z"
    },
    "colab": {
     "base_uri": "https://localhost:8080/"
    },
    "executionInfo": {
     "elapsed": 11,
     "status": "ok",
     "timestamp": 1710829808519,
     "user": {
      "displayName": "Майор Роман Юрійович",
      "userId": "05489763065567701371"
     },
     "user_tz": -120
    },
    "id": "VZydYkyWsJFT",
    "outputId": "b66f6503-2f48-41fc-f84f-073e8263f8c0"
   },
   "source": [
    "X_train, X_test, y_train, y_test = train_test_split(X, y, test_size=0.2, random_state=42)\n",
    "X_train"
   ],
   "outputs": []
  },
  {
   "cell_type": "code",
   "execution_count": 7,
   "metadata": {
    "ExecuteTime": {
     "end_time": "2024-05-26T02:49:40.949231Z",
     "start_time": "2024-05-26T02:49:40.908250Z"
    },
    "colab": {
     "base_uri": "https://localhost:8080/",
     "height": 0
    },
    "executionInfo": {
     "elapsed": 10,
     "status": "ok",
     "timestamp": 1710829808519,
     "user": {
      "displayName": "Майор Роман Юрійович",
      "userId": "05489763065567701371"
     },
     "user_tz": -120
    },
    "id": "k2tc3ec9-u4m",
    "outputId": "b5b031e9-bea9-43cd-dfb4-41dc963e742c"
   },
   "source": [
    "train_df = pd.DataFrame(X_train)\n",
    "train_y_df = pd.DataFrame(y_train, columns=['y'])\n",
    "train_df = pd.concat([train_df.reset_index(drop=True), train_y_df.reset_index(drop=True)], axis=1)\n",
    "train_df"
   ],
   "outputs": []
  },
  {
   "cell_type": "code",
   "execution_count": 8,
   "metadata": {
    "ExecuteTime": {
     "end_time": "2024-05-26T02:49:43.407096Z",
     "start_time": "2024-05-26T02:49:42.512248Z"
    },
    "colab": {
     "base_uri": "https://localhost:8080/",
     "height": 0
    },
    "executionInfo": {
     "elapsed": 8582,
     "status": "ok",
     "timestamp": 1710829817094,
     "user": {
      "displayName": "Майор Роман Юрійович",
      "userId": "05489763065567701371"
     },
     "user_tz": -120
    },
    "id": "2onMJAGvEKZ4",
    "outputId": "d1a5ce18-f6dd-47f8-f804-464fbe914917"
   },
   "source": [
    "train_df[[0, 'y']].plot()"
   ],
   "outputs": []
  },
  {
   "cell_type": "markdown",
   "metadata": {
    "id": "qHcc--EEEsO0"
   },
   "source": [
    "The data is clearly non-linear"
   ]
  },
  {
   "cell_type": "markdown",
   "metadata": {
    "id": "CpbdYX-xtJMX"
   },
   "source": [
    "## Lineral Regression"
   ]
  },
  {
   "cell_type": "code",
   "execution_count": 9,
   "metadata": {
    "ExecuteTime": {
     "end_time": "2024-05-26T02:49:46.990727Z",
     "start_time": "2024-05-26T02:49:46.909096Z"
    },
    "colab": {
     "base_uri": "https://localhost:8080/"
    },
    "executionInfo": {
     "elapsed": 25,
     "status": "ok",
     "timestamp": 1710829817094,
     "user": {
      "displayName": "Майор Роман Юрійович",
      "userId": "05489763065567701371"
     },
     "user_tz": -120
    },
    "id": "y3UZYfzaxeVU",
    "outputId": "732e0fa1-ffb3-41b0-f765-5ba6cb9ad0eb"
   },
   "source": [
    "lr_model = LinearRegression()\n",
    "history = lr_model.fit(X_train, y_train)\n",
    "print(lr_model.score(X_test, y_test))"
   ],
   "outputs": []
  },
  {
   "cell_type": "code",
   "execution_count": 10,
   "metadata": {
    "ExecuteTime": {
     "end_time": "2024-05-26T02:49:48.266443Z",
     "start_time": "2024-05-26T02:49:48.244218Z"
    },
    "colab": {
     "base_uri": "https://localhost:8080/"
    },
    "executionInfo": {
     "elapsed": 24,
     "status": "ok",
     "timestamp": 1710829817095,
     "user": {
      "displayName": "Майор Роман Юрійович",
      "userId": "05489763065567701371"
     },
     "user_tz": -120
    },
    "id": "cm-J272e3-gK",
    "outputId": "6c2e8240-24d9-4ce8-892e-1b659f782173"
   },
   "source": [
    "y_pred = lr_model.predict(X_test)\n",
    "mse = mean_squared_error(y_test, y_pred)\n",
    "mse"
   ],
   "outputs": []
  },
  {
   "cell_type": "code",
   "execution_count": 11,
   "metadata": {
    "ExecuteTime": {
     "end_time": "2024-05-26T02:49:49.858530Z",
     "start_time": "2024-05-26T02:49:49.089517Z"
    },
    "colab": {
     "base_uri": "https://localhost:8080/",
     "height": 375
    },
    "executionInfo": {
     "elapsed": 8084,
     "status": "ok",
     "timestamp": 1710829825156,
     "user": {
      "displayName": "Майор Роман Юрійович",
      "userId": "05489763065567701371"
     },
     "user_tz": -120
    },
    "id": "lllpU3O3FFQX",
    "outputId": "15da7c4e-eba8-4bd4-de23-5a6d6d495130"
   },
   "source": [
    "test_pred_df = pd.DataFrame(y_pred, columns=['y_pred'])\n",
    "test_y_df = pd.DataFrame(y_test, columns=['y'])\n",
    "test_df = pd.concat([test_pred_df.reset_index(drop=True), test_y_df.reset_index(drop=True)], axis=1)\n",
    "test_df[['y', 'y_pred']].plot(figsize=(20, 6))"
   ],
   "outputs": []
  },
  {
   "cell_type": "code",
   "execution_count": 12,
   "metadata": {
    "ExecuteTime": {
     "end_time": "2024-05-26T02:49:50.885450Z",
     "start_time": "2024-05-26T02:49:50.883246Z"
    },
    "colab": {
     "base_uri": "https://localhost:8080/"
    },
    "executionInfo": {
     "elapsed": 6,
     "status": "ok",
     "timestamp": 1710829825157,
     "user": {
      "displayName": "Майор Роман Юрійович",
      "userId": "05489763065567701371"
     },
     "user_tz": -120
    },
    "id": "55IeLKv2HkBk",
    "outputId": "ff4281ee-ce46-454e-e4f9-1b27828c0b33"
   },
   "source": [
    "print(f'y = a * x + b = {lr_model.coef_} * x + {lr_model.intercept_}')"
   ],
   "outputs": []
  },
  {
   "cell_type": "code",
   "execution_count": 13,
   "metadata": {
    "ExecuteTime": {
     "end_time": "2024-05-26T02:49:52.871542Z",
     "start_time": "2024-05-26T02:49:51.768055Z"
    },
    "executionInfo": {
     "elapsed": 3438,
     "status": "ok",
     "timestamp": 1710829828591,
     "user": {
      "displayName": "Майор Роман Юрійович",
      "userId": "05489763065567701371"
     },
     "user_tz": -120
    },
    "id": "tadqISadLYEN"
   },
   "source": [
    "cv = KFold(n_splits=5, shuffle=True, random_state=42)\n",
    "train_sizes = np.linspace(0.1, 1.0, 5)\n",
    "train_sizes_abs, train_scores, test_scores = learning_curve(lr_model, X, y, cv=cv, train_sizes=train_sizes, scoring='neg_mean_squared_error')\n"
   ],
   "outputs": []
  },
  {
   "cell_type": "code",
   "execution_count": 14,
   "metadata": {
    "ExecuteTime": {
     "end_time": "2024-05-26T02:49:53.746056Z",
     "start_time": "2024-05-26T02:49:53.743539Z"
    },
    "colab": {
     "base_uri": "https://localhost:8080/"
    },
    "executionInfo": {
     "elapsed": 575,
     "status": "ok",
     "timestamp": 1710829829162,
     "user": {
      "displayName": "Майор Роман Юрійович",
      "userId": "05489763065567701371"
     },
     "user_tz": -120
    },
    "id": "L11rhyJXLjg2",
    "outputId": "6a1f93dc-2806-4fbb-bfa1-f842ebf7f141"
   },
   "source": [
    "print('train_sizes_abs', train_sizes_abs)\n",
    "print('train_scores', train_scores)\n",
    "print('test_scores', test_scores)"
   ],
   "outputs": []
  },
  {
   "cell_type": "code",
   "execution_count": 15,
   "metadata": {
    "ExecuteTime": {
     "end_time": "2024-05-26T02:49:56.783375Z",
     "start_time": "2024-05-26T02:49:54.825843Z"
    },
    "colab": {
     "base_uri": "https://localhost:8080/",
     "height": 312
    },
    "executionInfo": {
     "elapsed": 11797,
     "status": "ok",
     "timestamp": 1710829840956,
     "user": {
      "displayName": "Майор Роман Юрійович",
      "userId": "05489763065567701371"
     },
     "user_tz": -120
    },
    "id": "xP8YfkTvOdtZ",
    "outputId": "d089cfe1-80ea-4a64-b706-9ca87998b76d"
   },
   "source": [
    "# Initialize plots\n",
    "fig, axs = plt.subplots(1, 3, figsize=(18, 5))\n",
    "metrics = ['r2', 'mape', 'mse']\n",
    "scorings = ['r2', 'neg_mean_absolute_percentage_error', 'neg_mean_squared_error']\n",
    "\n",
    "# Loop through each metric\n",
    "for idx, (metric, scoring) in enumerate(zip(metrics, scorings)):\n",
    "    # Get train and test scores\n",
    "    train_sizes, train_scores, test_scores = learning_curve(lr_model, X, y, cv=cv, n_jobs=-1, train_sizes=train_sizes, scoring=scoring)\n",
    "\n",
    "    # Calculate means and standard deviations for train and test scores\n",
    "    train_scores_mean = np.mean(train_scores, axis=1)\n",
    "    test_scores_mean = np.mean(test_scores, axis=1)\n",
    "    train_scores_std = np.std(train_scores, axis=1)\n",
    "    test_scores_std = np.std(test_scores, axis=1)\n",
    "\n",
    "    # Adjust scoring for display (if necessary)\n",
    "    if scoring.startswith('neg_'):\n",
    "        train_scores_mean = -train_scores_mean\n",
    "        test_scores_mean = -test_scores_mean\n",
    "\n",
    "    # Plot learning curves\n",
    "    axs[idx].fill_between(train_sizes, train_scores_mean - train_scores_std,\n",
    "                          train_scores_mean + train_scores_std, alpha=0.1, color=\"r\")\n",
    "    axs[idx].fill_between(train_sizes, test_scores_mean - test_scores_std,\n",
    "                          test_scores_mean + test_scores_std, alpha=0.1, color=\"g\")\n",
    "    axs[idx].plot(train_sizes, train_scores_mean, 'o-', color=\"r\", label=\"Training score\")\n",
    "    axs[idx].plot(train_sizes, test_scores_mean, 'o-', color=\"g\", label=\"Cross-validation score\")\n",
    "\n",
    "    # Set plot titles and labels\n",
    "    axs[idx].set_title(f'Learning Curve ({metric.upper()})')\n",
    "    axs[idx].set_xlabel('Training examples')\n",
    "    axs[idx].set_ylabel(metric.upper())\n",
    "    axs[idx].legend(loc=\"best\")\n",
    "\n",
    "# Show plot\n",
    "plt.tight_layout()\n",
    "plt.show()\n"
   ],
   "outputs": []
  },
  {
   "cell_type": "markdown",
   "metadata": {
    "id": "lwTXVJ0NUzSg"
   },
   "source": [
    "### Results interpretation"
   ]
  },
  {
   "cell_type": "markdown",
   "metadata": {
    "id": "NBKY5FFEywFJ"
   },
   "source": [
    "## Neural Networks"
   ]
  },
  {
   "cell_type": "code",
   "execution_count": 23,
   "metadata": {
    "ExecuteTime": {
     "end_time": "2024-05-26T02:52:10.223559Z",
     "start_time": "2024-05-26T02:52:10.219961Z"
    },
    "executionInfo": {
     "elapsed": 826,
     "status": "ok",
     "timestamp": 1710845951477,
     "user": {
      "displayName": "Майор Роман Юрійович",
      "userId": "05489763065567701371"
     },
     "user_tz": -120
    },
    "id": "hBfYlKzjy0w6"
   },
   "source": [
    "layers_options = [1, 5, 25]\n",
    "optimizers_options = {'SGD': SGD, 'RMSProp': RMSprop, 'Adam': Adam}\n",
    "learning_rates = [0.1, 0.01, 0.001]\n",
    "loss_function = 'mean_squared_error'\n",
    "\n",
    "# layers_options = [1, 5, 25]\n",
    "# optimizers_options = {'SGD': SGD, 'RMSProp': RMSprop, 'Adam': Adam}\n",
    "# learning_rates = [0.1]\n",
    "# loss_function = 'mean_squared_error'"
   ],
   "outputs": []
  },
  {
   "cell_type": "code",
   "execution_count": 42,
   "metadata": {
    "ExecuteTime": {
     "end_time": "2024-05-26T03:10:49.793157Z",
     "start_time": "2024-05-26T03:10:49.787657Z"
    },
    "executionInfo": {
     "elapsed": 8,
     "status": "ok",
     "timestamp": 1710829840957,
     "user": {
      "displayName": "Майор Роман Юрійович",
      "userId": "05489763065567701371"
     },
     "user_tz": -120
    },
    "id": "kKsB37M2zHia"
   },
   "source": [
    "def r2_keras(y_true, y_pred):\n",
    "    SS_res = tf.reduce_sum(tf.square(y_true - y_pred))\n",
    "    SS_tot = tf.reduce_sum(tf.square(y_true - tf.reduce_mean(y_true)))\n",
    "    return 1 - SS_res / (SS_tot + tf.keras.backend.epsilon())"
   ],
   "outputs": []
  },
  {
   "cell_type": "code",
   "execution_count": 50,
   "metadata": {
    "ExecuteTime": {
     "end_time": "2024-05-26T03:15:35.794157Z",
     "start_time": "2024-05-26T03:15:35.788537Z"
    },
    "executionInfo": {
     "elapsed": 456,
     "status": "ok",
     "timestamp": 1710845914622,
     "user": {
      "displayName": "Майор Роман Юрійович",
      "userId": "05489763065567701371"
     },
     "user_tz": -120
    },
    "id": "n5uOuYLd17zk"
   },
   "source": [
    "\n",
    "model.compile(\n",
    "    optimizer=SGD(learning_rate=0.1),\n",
    "    loss='mean_squared_error',\n",
    "    metrics=[r2_keras, 'mape', 'mse']\n",
    ")\n"
   ],
   "outputs": []
  },
  {
   "cell_type": "code",
   "execution_count": 51,
   "metadata": {
    "ExecuteTime": {
     "end_time": "2024-05-26T03:15:36.980366Z",
     "start_time": "2024-05-26T03:15:36.977052Z"
    },
    "executionInfo": {
     "elapsed": 8,
     "status": "ok",
     "timestamp": 1710829840958,
     "user": {
      "displayName": "Майор Роман Юрійович",
      "userId": "05489763065567701371"
     },
     "user_tz": -120
    },
    "id": "xlSCNgwR3WsU"
   },
   "source": [
    "\n",
    "def plot_learning_curves(history, title):\n",
    "    plt.figure(figsize=(10, 6))\n",
    "\n",
    "    plt.plot(history.history['loss'], label='MSE (training loss)')\n",
    "    plt.plot(history.history['mape'], label='MAPE')\n",
    "    plt.plot(history.history['r2_keras'], label='R^2')\n",
    "\n",
    "    plt.plot(history.history['val_loss'], label='MSE (val loss)')\n",
    "    plt.plot(history.history['val_mape'], label='MAPE (val)')\n",
    "    plt.plot(history.history['val_r2_keras'], label='R^2 (val)')\n",
    "\n",
    "    plt.title(title)\n",
    "    plt.ylabel('Loss / MAPE')\n",
    "    plt.xlabel('Epoch')\n",
    "    plt.legend()\n",
    "    plt.show()\n"
   ],
   "outputs": []
  },
  {
   "cell_type": "code",
   "execution_count": 52,
   "metadata": {
    "ExecuteTime": {
     "end_time": "2024-05-26T03:15:45.226185Z",
     "start_time": "2024-05-26T03:15:37.539854Z"
    },
    "executionInfo": {
     "elapsed": 7,
     "status": "ok",
     "timestamp": 1710829840958,
     "user": {
      "displayName": "Майор Роман Юрійович",
      "userId": "05489763065567701371"
     },
     "user_tz": -120
    },
    "id": "lIOjhJk2KjXt"
   },
   "source": [
    "from keras import Input\n",
    "\n",
    "model = Sequential()\n",
    "model.add(Input(shape=(X_train.shape[1],)))\n",
    "model.add(Dense(units=64, activation='relu'))\n",
    "model.add(Dense(units=1))\n",
    "model.compile(\n",
    "    optimizer=SGD(learning_rate=0.1),\n",
    "    loss='mean_squared_error',\n",
    ")\n",
    "\n",
    "history = model.fit(\n",
    "    X_train,\n",
    "    y_train,\n",
    "    epochs=10,\n",
    "    batch_size=32,\n",
    "    validation_data=(X_test, y_test)\n",
    ")\n",
    "\n",
    "print(history.history.keys())\n",
    "\n",
    "plt.figure(figsize=(10, 6))\n",
    "print(history.history['loss'])\n",
    "plt.plot(history.history['loss'], label='MSE (training loss)')\n",
    "plt.ylabel('Loss / MAPE')\n",
    "plt.xlabel('Epoch')\n",
    "plt.legend()\n",
    "plt.show()\n"
   ],
   "outputs": []
  },
  {
   "cell_type": "code",
   "execution_count": 53,
   "metadata": {
    "ExecuteTime": {
     "end_time": "2024-05-26T03:15:55.765466Z",
     "start_time": "2024-05-26T03:15:50.775530Z"
    },
    "colab": {
     "base_uri": "https://localhost:8080/",
     "height": 1000
    },
    "executionInfo": {
     "elapsed": 2186567,
     "status": "ok",
     "timestamp": 1710851150831,
     "user": {
      "displayName": "Майор Роман Юрійович",
      "userId": "05489763065567701371"
     },
     "user_tz": -120
    },
    "id": "TqfHmPZ--Ofu",
    "outputId": "cfc6cb3a-4b14-4712-e931-daf2e652f794"
   },
   "source": [
    "for layers in layers_options:\n",
    "    for optimizer_name, Optimizer in optimizers_options.items():\n",
    "        for lr in learning_rates:\n",
    "          title = f\"Layers: {layers}, Optimizer: {optimizer_name}, LR: {lr}\"  #, R^2: {r_square:.2f}\"\n",
    "          print('*' * 100)\n",
    "          print(title)\n",
    "          model = define_model(layers, Optimizer, lr)\n",
    "          history = model.fit(X_train, y_train, epochs=50, batch_size=64, validation_data=(X_test, y_test))\n",
    "          plot_learning_curves(history, title)"
   ],
   "outputs": []
  },
  {
   "cell_type": "code",
   "execution_count": null,
   "metadata": {
    "executionInfo": {
     "elapsed": 4,
     "status": "aborted",
     "timestamp": 1710829841981,
     "user": {
      "displayName": "Майор Роман Юрійович",
      "userId": "05489763065567701371"
     },
     "user_tz": -120
    },
    "id": "KWIXPmNteYWK"
   },
   "source": [],
   "outputs": []
  }
 ],
 "metadata": {
  "colab": {
   "authorship_tag": "ABX9TyO+cL4juDsL0y6bzwrkSF7l",
   "collapsed_sections": [
    "dwJVFkY3tBcC",
    "F01gg4xhxkw2"
   ],
   "provenance": []
  },
  "kernelspec": {
   "display_name": "Python 3 (ipykernel)",
   "language": "python",
   "name": "python3"
  },
  "language_info": {
   "name": "python"
  }
 },
 "nbformat": 4,
 "nbformat_minor": 0
}
