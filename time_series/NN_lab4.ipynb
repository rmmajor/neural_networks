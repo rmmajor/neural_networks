{
 "cells": [
  {
   "metadata": {
    "ExecuteTime": {
     "end_time": "2024-06-17T13:00:32.482900Z",
     "start_time": "2024-06-17T13:00:30.476093Z"
    }
   },
   "cell_type": "code",
   "source": [
    "from tqdm import tqdm\n",
    "import copy\n",
    "import time\n",
    "import functools\n",
    "import warnings\n",
    "warnings.filterwarnings(\"ignore\")\n",
    "\n",
    "import torch\n",
    "import torch.nn as nn\n",
    "import torch.nn.functional as F\n",
    "import torch.optim as optim\n",
    "from torchvision import datasets, transforms, models\n",
    "from torch.utils.data import DataLoader\n",
    "from torchvision.datasets import ImageFolder\n",
    "\n",
    "import matplotlib.pyplot as plt\n",
    "import numpy as np\n",
    "import pandas as pd\n",
    "import seaborn as sns\n",
    "from sklearn.model_selection import train_test_split, learning_curve, KFold\n",
    "from sklearn.linear_model import LinearRegression\n",
    "from sklearn.ensemble import RandomForestRegressor\n",
    "from sklearn.metrics import mean_squared_error, r2_score, mean_absolute_percentage_error\n",
    "from sklearn.preprocessing import label_binarize\n",
    "from sklearn.metrics import classification_report, confusion_matrix, roc_curve, auc, precision_recall_curve, average_precision_score\n"
   ],
   "id": "1b40a312b5cb3b4f",
   "outputs": [],
   "execution_count": 1
  },
  {
   "metadata": {
    "ExecuteTime": {
     "end_time": "2024-06-17T13:00:36.418076Z",
     "start_time": "2024-06-17T13:00:36.415263Z"
    }
   },
   "cell_type": "code",
   "source": [
    "def timeit(func):\n",
    "    @functools.wraps(func)\n",
    "    def wrapper(*args, **kwargs):\n",
    "        start_time = time.time()  \n",
    "        result = func(*args, **kwargs)  \n",
    "        end_time = time.time()  \n",
    "        execution_time = end_time - start_time  \n",
    "        print(f\"Function '{func.__name__}' executed in {execution_time:.4f} seconds\")\n",
    "        return result\n",
    "    return wrapper"
   ],
   "id": "9ae76a58acce41e5",
   "outputs": [],
   "execution_count": 2
  },
  {
   "metadata": {
    "ExecuteTime": {
     "end_time": "2024-06-17T13:00:38.305300Z",
     "start_time": "2024-06-17T13:00:38.288425Z"
    }
   },
   "cell_type": "code",
   "source": [
    "# check if runs on Apple Silicon efficiently\n",
    "\n",
    "if not torch.backends.mps.is_available():\n",
    "    if not torch.backends.mps.is_built():\n",
    "        print(\"MPS not available because the current PyTorch install was not \"\n",
    "              \"built with MPS enabled.\")\n",
    "    else:\n",
    "        print(\"MPS not available because the current MacOS version is not 12.3+ \"\n",
    "              \"and/or you do not have an MPS-enabled device on this machine.\")\n",
    "    raise Exception(\"MPS not available\")\n",
    "\n",
    "else:\n",
    "    device = torch.device(\"mps\")\n",
    "    print(\"MPS enabled\")"
   ],
   "id": "3b6c44f9fbdb4fc2",
   "outputs": [
    {
     "name": "stdout",
     "output_type": "stream",
     "text": [
      "MPS enabled\n"
     ]
    }
   ],
   "execution_count": 3
  },
  {
   "metadata": {
    "ExecuteTime": {
     "end_time": "2024-05-26T01:04:01.499159Z",
     "start_time": "2024-05-26T01:04:01.476974Z"
    }
   },
   "cell_type": "code",
   "source": "",
   "id": "19b5bb0023da0496",
   "outputs": [
    {
     "data": {
      "text/plain": [
       "            Date   Open    High    Low  Close  Adj Close   Volume\n",
       "0     2014-04-10  16.85  17.240  14.00  14.01      14.01  2408700\n",
       "1     2014-04-11  13.74  13.904  12.02  13.00      13.00   197200\n",
       "2     2014-04-14  12.96  13.890  12.71  13.60      13.60    36500\n",
       "3     2014-04-15  14.44  14.440  13.10  13.39      13.39    40500\n",
       "4     2014-04-16  13.40  13.470  13.03  13.20      13.20    32300\n",
       "...          ...    ...     ...    ...    ...        ...      ...\n",
       "1500  2020-03-26   2.73   2.910   2.67   2.79       2.79   290700\n",
       "1501  2020-03-27   2.79   2.810   2.55   2.67       2.67   168300\n",
       "1502  2020-03-30   2.71   2.770   2.40   2.76       2.76   323700\n",
       "1503  2020-03-31   2.75   2.980   2.70   2.89       2.89   231900\n",
       "1504  2020-04-01   2.86   2.860   2.55   2.68       2.68   421100\n",
       "\n",
       "[1505 rows x 7 columns]"
      ],
      "text/html": [
       "<div>\n",
       "<style scoped>\n",
       "    .dataframe tbody tr th:only-of-type {\n",
       "        vertical-align: middle;\n",
       "    }\n",
       "\n",
       "    .dataframe tbody tr th {\n",
       "        vertical-align: top;\n",
       "    }\n",
       "\n",
       "    .dataframe thead th {\n",
       "        text-align: right;\n",
       "    }\n",
       "</style>\n",
       "<table border=\"1\" class=\"dataframe\">\n",
       "  <thead>\n",
       "    <tr style=\"text-align: right;\">\n",
       "      <th></th>\n",
       "      <th>Date</th>\n",
       "      <th>Open</th>\n",
       "      <th>High</th>\n",
       "      <th>Low</th>\n",
       "      <th>Close</th>\n",
       "      <th>Adj Close</th>\n",
       "      <th>Volume</th>\n",
       "    </tr>\n",
       "  </thead>\n",
       "  <tbody>\n",
       "    <tr>\n",
       "      <th>0</th>\n",
       "      <td>2014-04-10</td>\n",
       "      <td>16.85</td>\n",
       "      <td>17.240</td>\n",
       "      <td>14.00</td>\n",
       "      <td>14.01</td>\n",
       "      <td>14.01</td>\n",
       "      <td>2408700</td>\n",
       "    </tr>\n",
       "    <tr>\n",
       "      <th>1</th>\n",
       "      <td>2014-04-11</td>\n",
       "      <td>13.74</td>\n",
       "      <td>13.904</td>\n",
       "      <td>12.02</td>\n",
       "      <td>13.00</td>\n",
       "      <td>13.00</td>\n",
       "      <td>197200</td>\n",
       "    </tr>\n",
       "    <tr>\n",
       "      <th>2</th>\n",
       "      <td>2014-04-14</td>\n",
       "      <td>12.96</td>\n",
       "      <td>13.890</td>\n",
       "      <td>12.71</td>\n",
       "      <td>13.60</td>\n",
       "      <td>13.60</td>\n",
       "      <td>36500</td>\n",
       "    </tr>\n",
       "    <tr>\n",
       "      <th>3</th>\n",
       "      <td>2014-04-15</td>\n",
       "      <td>14.44</td>\n",
       "      <td>14.440</td>\n",
       "      <td>13.10</td>\n",
       "      <td>13.39</td>\n",
       "      <td>13.39</td>\n",
       "      <td>40500</td>\n",
       "    </tr>\n",
       "    <tr>\n",
       "      <th>4</th>\n",
       "      <td>2014-04-16</td>\n",
       "      <td>13.40</td>\n",
       "      <td>13.470</td>\n",
       "      <td>13.03</td>\n",
       "      <td>13.20</td>\n",
       "      <td>13.20</td>\n",
       "      <td>32300</td>\n",
       "    </tr>\n",
       "    <tr>\n",
       "      <th>...</th>\n",
       "      <td>...</td>\n",
       "      <td>...</td>\n",
       "      <td>...</td>\n",
       "      <td>...</td>\n",
       "      <td>...</td>\n",
       "      <td>...</td>\n",
       "      <td>...</td>\n",
       "    </tr>\n",
       "    <tr>\n",
       "      <th>1500</th>\n",
       "      <td>2020-03-26</td>\n",
       "      <td>2.73</td>\n",
       "      <td>2.910</td>\n",
       "      <td>2.67</td>\n",
       "      <td>2.79</td>\n",
       "      <td>2.79</td>\n",
       "      <td>290700</td>\n",
       "    </tr>\n",
       "    <tr>\n",
       "      <th>1501</th>\n",
       "      <td>2020-03-27</td>\n",
       "      <td>2.79</td>\n",
       "      <td>2.810</td>\n",
       "      <td>2.55</td>\n",
       "      <td>2.67</td>\n",
       "      <td>2.67</td>\n",
       "      <td>168300</td>\n",
       "    </tr>\n",
       "    <tr>\n",
       "      <th>1502</th>\n",
       "      <td>2020-03-30</td>\n",
       "      <td>2.71</td>\n",
       "      <td>2.770</td>\n",
       "      <td>2.40</td>\n",
       "      <td>2.76</td>\n",
       "      <td>2.76</td>\n",
       "      <td>323700</td>\n",
       "    </tr>\n",
       "    <tr>\n",
       "      <th>1503</th>\n",
       "      <td>2020-03-31</td>\n",
       "      <td>2.75</td>\n",
       "      <td>2.980</td>\n",
       "      <td>2.70</td>\n",
       "      <td>2.89</td>\n",
       "      <td>2.89</td>\n",
       "      <td>231900</td>\n",
       "    </tr>\n",
       "    <tr>\n",
       "      <th>1504</th>\n",
       "      <td>2020-04-01</td>\n",
       "      <td>2.86</td>\n",
       "      <td>2.860</td>\n",
       "      <td>2.55</td>\n",
       "      <td>2.68</td>\n",
       "      <td>2.68</td>\n",
       "      <td>421100</td>\n",
       "    </tr>\n",
       "  </tbody>\n",
       "</table>\n",
       "<p>1505 rows × 7 columns</p>\n",
       "</div>"
      ]
     },
     "execution_count": 7,
     "metadata": {},
     "output_type": "execute_result"
    }
   ],
   "execution_count": 7
  },
  {
   "metadata": {},
   "cell_type": "markdown",
   "source": "# Load Dataset",
   "id": "e5c7d039f0294c16"
  },
  {
   "metadata": {
    "ExecuteTime": {
     "end_time": "2024-06-17T13:00:44.475486Z",
     "start_time": "2024-06-17T13:00:44.453354Z"
    }
   },
   "cell_type": "code",
   "source": [
    "df = pd.read_csv('data/archive/stocks/ADMS.csv')\n",
    "df['Date'] = pd.to_datetime(df['Date'])\n",
    "df = df.sort_values('Date')\n",
    "df"
   ],
   "id": "4edc8d4260767ecf",
   "outputs": [
    {
     "data": {
      "text/plain": [
       "           Date   Open    High    Low  Close  Adj Close   Volume\n",
       "0    2014-04-10  16.85  17.240  14.00  14.01      14.01  2408700\n",
       "1    2014-04-11  13.74  13.904  12.02  13.00      13.00   197200\n",
       "2    2014-04-14  12.96  13.890  12.71  13.60      13.60    36500\n",
       "3    2014-04-15  14.44  14.440  13.10  13.39      13.39    40500\n",
       "4    2014-04-16  13.40  13.470  13.03  13.20      13.20    32300\n",
       "...         ...    ...     ...    ...    ...        ...      ...\n",
       "1500 2020-03-26   2.73   2.910   2.67   2.79       2.79   290700\n",
       "1501 2020-03-27   2.79   2.810   2.55   2.67       2.67   168300\n",
       "1502 2020-03-30   2.71   2.770   2.40   2.76       2.76   323700\n",
       "1503 2020-03-31   2.75   2.980   2.70   2.89       2.89   231900\n",
       "1504 2020-04-01   2.86   2.860   2.55   2.68       2.68   421100\n",
       "\n",
       "[1505 rows x 7 columns]"
      ],
      "text/html": [
       "<div>\n",
       "<style scoped>\n",
       "    .dataframe tbody tr th:only-of-type {\n",
       "        vertical-align: middle;\n",
       "    }\n",
       "\n",
       "    .dataframe tbody tr th {\n",
       "        vertical-align: top;\n",
       "    }\n",
       "\n",
       "    .dataframe thead th {\n",
       "        text-align: right;\n",
       "    }\n",
       "</style>\n",
       "<table border=\"1\" class=\"dataframe\">\n",
       "  <thead>\n",
       "    <tr style=\"text-align: right;\">\n",
       "      <th></th>\n",
       "      <th>Date</th>\n",
       "      <th>Open</th>\n",
       "      <th>High</th>\n",
       "      <th>Low</th>\n",
       "      <th>Close</th>\n",
       "      <th>Adj Close</th>\n",
       "      <th>Volume</th>\n",
       "    </tr>\n",
       "  </thead>\n",
       "  <tbody>\n",
       "    <tr>\n",
       "      <th>0</th>\n",
       "      <td>2014-04-10</td>\n",
       "      <td>16.85</td>\n",
       "      <td>17.240</td>\n",
       "      <td>14.00</td>\n",
       "      <td>14.01</td>\n",
       "      <td>14.01</td>\n",
       "      <td>2408700</td>\n",
       "    </tr>\n",
       "    <tr>\n",
       "      <th>1</th>\n",
       "      <td>2014-04-11</td>\n",
       "      <td>13.74</td>\n",
       "      <td>13.904</td>\n",
       "      <td>12.02</td>\n",
       "      <td>13.00</td>\n",
       "      <td>13.00</td>\n",
       "      <td>197200</td>\n",
       "    </tr>\n",
       "    <tr>\n",
       "      <th>2</th>\n",
       "      <td>2014-04-14</td>\n",
       "      <td>12.96</td>\n",
       "      <td>13.890</td>\n",
       "      <td>12.71</td>\n",
       "      <td>13.60</td>\n",
       "      <td>13.60</td>\n",
       "      <td>36500</td>\n",
       "    </tr>\n",
       "    <tr>\n",
       "      <th>3</th>\n",
       "      <td>2014-04-15</td>\n",
       "      <td>14.44</td>\n",
       "      <td>14.440</td>\n",
       "      <td>13.10</td>\n",
       "      <td>13.39</td>\n",
       "      <td>13.39</td>\n",
       "      <td>40500</td>\n",
       "    </tr>\n",
       "    <tr>\n",
       "      <th>4</th>\n",
       "      <td>2014-04-16</td>\n",
       "      <td>13.40</td>\n",
       "      <td>13.470</td>\n",
       "      <td>13.03</td>\n",
       "      <td>13.20</td>\n",
       "      <td>13.20</td>\n",
       "      <td>32300</td>\n",
       "    </tr>\n",
       "    <tr>\n",
       "      <th>...</th>\n",
       "      <td>...</td>\n",
       "      <td>...</td>\n",
       "      <td>...</td>\n",
       "      <td>...</td>\n",
       "      <td>...</td>\n",
       "      <td>...</td>\n",
       "      <td>...</td>\n",
       "    </tr>\n",
       "    <tr>\n",
       "      <th>1500</th>\n",
       "      <td>2020-03-26</td>\n",
       "      <td>2.73</td>\n",
       "      <td>2.910</td>\n",
       "      <td>2.67</td>\n",
       "      <td>2.79</td>\n",
       "      <td>2.79</td>\n",
       "      <td>290700</td>\n",
       "    </tr>\n",
       "    <tr>\n",
       "      <th>1501</th>\n",
       "      <td>2020-03-27</td>\n",
       "      <td>2.79</td>\n",
       "      <td>2.810</td>\n",
       "      <td>2.55</td>\n",
       "      <td>2.67</td>\n",
       "      <td>2.67</td>\n",
       "      <td>168300</td>\n",
       "    </tr>\n",
       "    <tr>\n",
       "      <th>1502</th>\n",
       "      <td>2020-03-30</td>\n",
       "      <td>2.71</td>\n",
       "      <td>2.770</td>\n",
       "      <td>2.40</td>\n",
       "      <td>2.76</td>\n",
       "      <td>2.76</td>\n",
       "      <td>323700</td>\n",
       "    </tr>\n",
       "    <tr>\n",
       "      <th>1503</th>\n",
       "      <td>2020-03-31</td>\n",
       "      <td>2.75</td>\n",
       "      <td>2.980</td>\n",
       "      <td>2.70</td>\n",
       "      <td>2.89</td>\n",
       "      <td>2.89</td>\n",
       "      <td>231900</td>\n",
       "    </tr>\n",
       "    <tr>\n",
       "      <th>1504</th>\n",
       "      <td>2020-04-01</td>\n",
       "      <td>2.86</td>\n",
       "      <td>2.860</td>\n",
       "      <td>2.55</td>\n",
       "      <td>2.68</td>\n",
       "      <td>2.68</td>\n",
       "      <td>421100</td>\n",
       "    </tr>\n",
       "  </tbody>\n",
       "</table>\n",
       "<p>1505 rows × 7 columns</p>\n",
       "</div>"
      ]
     },
     "execution_count": 4,
     "metadata": {},
     "output_type": "execute_result"
    }
   ],
   "execution_count": 4
  },
  {
   "metadata": {
    "ExecuteTime": {
     "end_time": "2024-06-17T13:00:46.082551Z",
     "start_time": "2024-06-17T13:00:46.079172Z"
    }
   },
   "cell_type": "code",
   "source": [
    "X = df.drop(columns=['Close', 'Date', 'Adj Close'])\n",
    "y = df['Close']"
   ],
   "id": "394e9e7036a8e8aa",
   "outputs": [],
   "execution_count": 5
  },
  {
   "metadata": {
    "ExecuteTime": {
     "end_time": "2024-06-17T13:00:46.604885Z",
     "start_time": "2024-06-17T13:00:46.599573Z"
    }
   },
   "cell_type": "code",
   "source": "X_train, X_test, y_train, y_test = train_test_split(X, y, test_size=0.2, random_state=42)",
   "id": "9eaa466ebe375495",
   "outputs": [],
   "execution_count": 6
  },
  {
   "metadata": {
    "ExecuteTime": {
     "end_time": "2024-06-17T13:00:47.125434Z",
     "start_time": "2024-06-17T13:00:47.123591Z"
    }
   },
   "cell_type": "code",
   "source": "",
   "id": "703365c6b8ea2ef6",
   "outputs": [],
   "execution_count": 6
  },
  {
   "metadata": {
    "ExecuteTime": {
     "end_time": "2024-06-17T13:00:47.621591Z",
     "start_time": "2024-06-17T13:00:47.618736Z"
    }
   },
   "cell_type": "code",
   "source": [
    "train_size = int(len(df) * 0.8)\n",
    "train, test = df.iloc[:train_size], df.iloc[train_size:]"
   ],
   "id": "5f66273228fc4fa4",
   "outputs": [],
   "execution_count": 7
  },
  {
   "metadata": {
    "ExecuteTime": {
     "end_time": "2024-06-17T13:00:48.422099Z",
     "start_time": "2024-06-17T13:00:48.420662Z"
    }
   },
   "cell_type": "code",
   "source": "",
   "id": "220d0012c3ca5207",
   "outputs": [],
   "execution_count": 7
  },
  {
   "metadata": {},
   "cell_type": "markdown",
   "source": "#  Linear Regression",
   "id": "c24d87adb5d7275c"
  },
  {
   "metadata": {
    "ExecuteTime": {
     "end_time": "2024-06-17T13:01:01.086874Z",
     "start_time": "2024-06-17T13:01:01.076182Z"
    }
   },
   "cell_type": "code",
   "source": [
    "lr_model = LinearRegression()\n",
    "history = lr_model.fit(X_train, y_train)\n",
    "# print(lr_model.score(X_test, y_test))\n"
   ],
   "id": "b4dd61e8b65e071c",
   "outputs": [],
   "execution_count": 10
  },
  {
   "metadata": {
    "ExecuteTime": {
     "end_time": "2024-06-17T13:01:01.602421Z",
     "start_time": "2024-06-17T13:01:01.598743Z"
    }
   },
   "cell_type": "code",
   "source": [
    "y_pred = lr_model.predict(X_test)\n",
    "mse = mean_squared_error(y_test, y_pred)\n",
    "mse"
   ],
   "id": "f65183579a6b667c",
   "outputs": [
    {
     "data": {
      "text/plain": [
       "0.13638723674317882"
      ]
     },
     "execution_count": 11,
     "metadata": {},
     "output_type": "execute_result"
    }
   ],
   "execution_count": 11
  },
  {
   "metadata": {
    "ExecuteTime": {
     "end_time": "2024-06-17T13:01:03.045486Z",
     "start_time": "2024-06-17T13:01:03.041114Z"
    }
   },
   "cell_type": "code",
   "source": [
    "def walk_forward_validation(model, train, test):\n",
    "    history = train.copy()\n",
    "    predictions = []\n",
    "\n",
    "    for t in range(len(test)):\n",
    "        # Define the training data\n",
    "        train_X = history[['Open', 'High', 'Low', 'Volume']].values\n",
    "        train_y = history['Close'].values\n",
    "        \n",
    "        # Fit the model\n",
    "        model.fit(train_X, train_y)\n",
    "        \n",
    "        # Make a prediction\n",
    "        test_X = test.iloc[t][['Open', 'High', 'Low', 'Volume']].values.reshape(1, -1)\n",
    "        yhat = model.predict(test_X)\n",
    "        predictions.append(yhat[0])\n",
    "        \n",
    "        # Add the observation to the history using pd.concat\n",
    "        history = pd.concat([history, test.iloc[[t]]])\n",
    "    \n",
    "    return predictions"
   ],
   "id": "e4082e82dd807063",
   "outputs": [],
   "execution_count": 12
  },
  {
   "metadata": {
    "ExecuteTime": {
     "end_time": "2024-06-17T13:01:04.238634Z",
     "start_time": "2024-06-17T13:01:04.043530Z"
    }
   },
   "cell_type": "code",
   "source": "predictions_lr = walk_forward_validation(lr_model, train, test)",
   "id": "c642b4c287d03406",
   "outputs": [],
   "execution_count": 13
  },
  {
   "metadata": {
    "ExecuteTime": {
     "end_time": "2024-06-17T13:01:04.474366Z",
     "start_time": "2024-06-17T13:01:04.471743Z"
    }
   },
   "cell_type": "code",
   "source": [
    "mse = mean_squared_error(test['Close'], predictions_lr)\n",
    "print(f'Mean Squared Error: {mse}')"
   ],
   "id": "1dcec8f134fd8163",
   "outputs": [
    {
     "name": "stdout",
     "output_type": "stream",
     "text": [
      "Mean Squared Error: 0.01451735770612803\n"
     ]
    }
   ],
   "execution_count": 14
  },
  {
   "metadata": {
    "ExecuteTime": {
     "end_time": "2024-06-17T13:01:05.131789Z",
     "start_time": "2024-06-17T13:01:05.128865Z"
    }
   },
   "cell_type": "code",
   "source": [
    "def plot_results(df, test, predictions, model_name):\n",
    "    plt.figure(figsize=(10, 6))\n",
    "    plt.plot(df['Date'], df['Close'], label='Actual')\n",
    "    plt.plot(test['Date'], predictions, label='Predicted', linestyle='--')\n",
    "    plt.title(f'{model_name} Predictions vs Actual')\n",
    "    plt.xlabel('Date')\n",
    "    plt.ylabel('Close Price')\n",
    "    plt.legend()\n",
    "    plt.show()"
   ],
   "id": "8ea69f27fc502160",
   "outputs": [],
   "execution_count": 15
  },
  {
   "metadata": {
    "ExecuteTime": {
     "end_time": "2024-06-17T13:01:46.843294Z",
     "start_time": "2024-06-17T13:01:46.644495Z"
    }
   },
   "cell_type": "code",
   "source": "plot_results(df, test, predictions_lr, 'LR')",
   "id": "ca47bca9b7614fdb",
   "outputs": [
    {
     "data": {
      "text/plain": [
       "<Figure size 1000x600 with 1 Axes>"
      ],
      "image/png": "[encoded data removed]"
     },
     "metadata": {},
     "output_type": "display_data"
    }
   ],
   "execution_count": 17
  },
  {
   "metadata": {},
   "cell_type": "code",
   "outputs": [],
   "execution_count": null,
   "source": "",
   "id": "2263dbb35da0da3e"
  },
  {
   "metadata": {},
   "cell_type": "markdown",
   "source": "# RandomForestRegressor",
   "id": "4eba813fa8e1cda9"
  },
  {
   "metadata": {
    "ExecuteTime": {
     "end_time": "2024-06-17T13:03:59.900005Z",
     "start_time": "2024-06-17T13:02:55.456545Z"
    }
   },
   "cell_type": "code",
   "source": [
    "rf_model = RandomForestRegressor(n_estimators=100, random_state=42)\n",
    "predictions_rf = walk_forward_validation(rf_model, train, test)\n"
   ],
   "id": "2d7682ce7a2c32c7",
   "outputs": [],
   "execution_count": 19
  },
  {
   "metadata": {
    "ExecuteTime": {
     "end_time": "2024-05-26T03:56:44.992010Z",
     "start_time": "2024-05-26T03:56:44.988889Z"
    }
   },
   "cell_type": "code",
   "source": [
    "mse_rf = mean_squared_error(test['Close'], predictions_rf)\n",
    "print(f'RandomForestRegressor Mean Squared Error: {mse_rf}')"
   ],
   "id": "4f0a2bd9fef788e4",
   "outputs": [
    {
     "name": "stdout",
     "output_type": "stream",
     "text": [
      "RandomForestRegressor Mean Squared Error: 0.03995827728389956\n"
     ]
    }
   ],
   "execution_count": 64
  },
  {
   "metadata": {
    "ExecuteTime": {
     "end_time": "2024-05-26T03:58:35.836547Z",
     "start_time": "2024-05-26T03:58:35.720908Z"
    }
   },
   "cell_type": "code",
   "source": "plot_results(df, test, predictions_rf, 'RF')",
   "id": "ba992246e739f88a",
   "outputs": [
    {
     "data": {
      "text/plain": [
       "<Figure size 1000x600 with 1 Axes>"
      ],
      "image/png": "[encoded data removed]"
     },
     "metadata": {},
     "output_type": "display_data"
    }
   ],
   "execution_count": 69
  },
  {
   "metadata": {},
   "cell_type": "code",
   "outputs": [],
   "execution_count": null,
   "source": "",
   "id": "ab27879a34c4b28e"
  },
  {
   "metadata": {},
   "cell_type": "markdown",
   "source": "# LSTM-DNN",
   "id": "b2bd7e5aa24c0fb4"
  },
  {
   "metadata": {
    "ExecuteTime": {
     "end_time": "2024-06-17T13:34:16.752725Z",
     "start_time": "2024-06-17T13:34:16.728900Z"
    }
   },
   "cell_type": "code",
   "source": [
    "class LSTM_DNN(nn.Module):\n",
    "    def __init__(self, input_size, hidden_size, num_layers, output_size):\n",
    "        super(LSTM_DNN, self).__init__()\n",
    "        self.lstm = nn.LSTM(input_size, hidden_size, num_layers, batch_first=True)\n",
    "        self.fc1 = nn.Linear(hidden_size, 50)\n",
    "        self.fc2 = nn.Linear(50, output_size)\n",
    "    \n",
    "    def forward(self, x):\n",
    "        h0 = torch.zeros(num_layers, x.size(0), hidden_size).to(x.device)\n",
    "        c0 = torch.zeros(num_layers, x.size(0), hidden_size).to(x.device)\n",
    "        \n",
    "        out, _ = self.lstm(x, (h0, c0))\n",
    "        out = out[:, -1, :]\n",
    "        out = self.fc1(out)\n",
    "        out = self.fc2(out)\n",
    "        return out"
   ],
   "id": "8456f1a38c1c6709",
   "outputs": [],
   "execution_count": 20
  },
  {
   "metadata": {},
   "cell_type": "markdown",
   "source": "# 1D-CNN-LSTM-DNN",
   "id": "e8389e82f08b2004"
  },
  {
   "metadata": {},
   "cell_type": "code",
   "outputs": [],
   "execution_count": null,
   "source": "",
   "id": "3dcc99d02235bd67"
  }
 ],
 "metadata": {
  "kernelspec": {
   "display_name": "Python 3",
   "language": "python",
   "name": "python3"
  },
  "language_info": {
   "codemirror_mode": {
    "name": "ipython",
    "version": 2
   },
   "file_extension": ".py",
   "mimetype": "text/x-python",
   "name": "python",
   "nbconvert_exporter": "python",
   "pygments_lexer": "ipython2",
   "version": "2.7.6"
  }
 },
 "nbformat": 4,
 "nbformat_minor": 5
}
