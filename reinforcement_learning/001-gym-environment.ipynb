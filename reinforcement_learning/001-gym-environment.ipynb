{
 "cells": [
  {
   "cell_type": "code",
   "metadata": {
    "ExecuteTime": {
     "end_time": "2024-05-26T04:51:01.418186Z",
     "start_time": "2024-05-26T04:51:01.214794Z"
    }
   },
   "source": [
    "import numpy as np\n",
    "import matplotlib.pyplot as plt\n",
    "%matplotlib inline"
   ],
   "outputs": [],
   "execution_count": 3
  },
  {
   "cell_type": "markdown",
   "metadata": {},
   "source": [
    "### OpenAI Gym\n",
    "\n",
    "We're gonna spend several next weeks learning algorithms that solve decision processes. We are then in need of some interesting decision problems to test our algorithms.\n",
    "\n",
    "That's where OpenAI Gym comes into play. It's a Python library that wraps many classical decision problems including robot control, videogames and board games.\n",
    "\n",
    "So here's how it works:"
   ]
  },
  {
   "cell_type": "code",
   "metadata": {
    "ExecuteTime": {
     "end_time": "2024-05-26T04:47:38.561911Z",
     "start_time": "2024-05-26T04:47:31.226688Z"
    }
   },
   "source": [
    "! pip install gym\n",
    "! pip install pygame"
   ],
   "outputs": [
    {
     "name": "stdout",
     "output_type": "stream",
     "text": [
      "Collecting gym\r\n",
      "  Downloading gym-0.26.2.tar.gz (721 kB)\r\n",
      "\u001B[2K     \u001B[90m━━━━━━━━━━━━━━━━━━━━━━━━━━━━━━━━━━━━━━━\u001B[0m \u001B[32m721.7/721.7 kB\u001B[0m \u001B[31m3.7 MB/s\u001B[0m eta \u001B[36m0:00:00\u001B[0ma \u001B[36m0:00:01\u001B[0m\r\n",
      "\u001B[?25h  Installing build dependencies ... \u001B[?25ldone\r\n",
      "\u001B[?25h  Getting requirements to build wheel ... \u001B[?25ldone\r\n",
      "\u001B[?25h  Installing backend dependencies ... \u001B[?25ldone\r\n",
      "\u001B[?25h  Preparing metadata (pyproject.toml) ... \u001B[?25ldone\r\n",
      "\u001B[?25hRequirement already satisfied: numpy>=1.18.0 in /Users/rmajor/Library/Caches/pypoetry/virtualenvs/neuralnetworks-S6rdj6Tk-py3.12/lib/python3.12/site-packages (from gym) (1.26.4)\r\n",
      "Collecting cloudpickle>=1.2.0 (from gym)\r\n",
      "  Downloading cloudpickle-3.0.0-py3-none-any.whl.metadata (7.0 kB)\r\n",
      "Collecting gym-notices>=0.0.4 (from gym)\r\n",
      "  Downloading gym_notices-0.0.8-py3-none-any.whl.metadata (1.0 kB)\r\n",
      "Downloading cloudpickle-3.0.0-py3-none-any.whl (20 kB)\r\n",
      "Downloading gym_notices-0.0.8-py3-none-any.whl (3.0 kB)\r\n",
      "Building wheels for collected packages: gym\r\n",
      "  Building wheel for gym (pyproject.toml) ... \u001B[?25ldone\r\n",
      "\u001B[?25h  Created wheel for gym: filename=gym-0.26.2-py3-none-any.whl size=827619 sha256=839bae677c1e5357a2d3f06ffbdfbcb8b243ca967348cb87d65db2484b54233f\r\n",
      "  Stored in directory: /Users/rmajor/Library/Caches/pip/wheels/95/51/6c/9bb05ebbe7c5cb8171dfaa3611f32622ca4658d53f31c79077\r\n",
      "Successfully built gym\r\n",
      "Installing collected packages: gym-notices, cloudpickle, gym\r\n",
      "Successfully installed cloudpickle-3.0.0 gym-0.26.2 gym-notices-0.0.8\r\n",
      "Collecting pygame\r\n",
      "  Downloading pygame-2.5.2-cp312-cp312-macosx_11_0_arm64.whl.metadata (13 kB)\r\n",
      "Downloading pygame-2.5.2-cp312-cp312-macosx_11_0_arm64.whl (12.3 MB)\r\n",
      "\u001B[2K   \u001B[90m━━━━━━━━━━━━━━━━━━━━━━━━━━━━━━━━━━━━━━━━\u001B[0m \u001B[32m12.3/12.3 MB\u001B[0m \u001B[31m29.2 MB/s\u001B[0m eta \u001B[36m0:00:00\u001B[0ma \u001B[36m0:00:01\u001B[0m\r\n",
      "\u001B[?25hInstalling collected packages: pygame\r\n",
      "Successfully installed pygame-2.5.2\r\n"
     ]
    }
   ],
   "execution_count": 2
  },
  {
   "cell_type": "code",
   "metadata": {
    "ExecuteTime": {
     "end_time": "2024-05-26T04:52:49.946638Z",
     "start_time": "2024-05-26T04:52:49.884673Z"
    }
   },
   "source": [
    "import gym\n",
    "\n",
    "env = gym.make(\"MountainCar-v0\", render_mode='rgb_array')\n",
    "env.reset()\n",
    "\n",
    "plt.imshow(env.render())\n",
    "print(\"Observation space:\", env.observation_space)\n",
    "print(\"Action space:\", env.action_space)"
   ],
   "outputs": [
    {
     "name": "stdout",
     "output_type": "stream",
     "text": [
      "Observation space: Box([-1.2  -0.07], [0.6  0.07], (2,), float32)\n",
      "Action space: Discrete(3)\n"
     ]
    },
    {
     "data": {
      "text/plain": [
       "<Figure size 640x480 with 1 Axes>"
      ],
      "image/png": "[encoded data removed]"
     },
     "metadata": {},
     "output_type": "display_data"
    }
   ],
   "execution_count": 9
  },
  {
   "cell_type": "markdown",
   "metadata": {},
   "source": [
    "Note: if you're running this on your local machine, you'll see a window pop up with the image above. Don't close it, just alt-tab away."
   ]
  },
  {
   "cell_type": "markdown",
   "metadata": {},
   "source": [
    "### Gym interface\n",
    "\n",
    "The three main methods of an environment are\n",
    "* `reset()`: reset environment to the initial state, _return first observation_\n",
    "* `render()`: show current environment state (a more colorful version :) )\n",
    "* `step(a)`: commit action `a` and return `(new_observation, reward, is_done, info)`\n",
    " * `new_observation`: an observation right after committing the action `a`\n",
    " * `reward`: a number representing your reward for committing action `a`\n",
    " * `is_done`: True if the MDP has just finished, False if still in progress\n",
    " * `info`: some auxiliary stuff about what just happened. For now, ignore it."
   ]
  },
  {
   "cell_type": "code",
   "metadata": {
    "ExecuteTime": {
     "end_time": "2024-05-26T04:51:10.123224Z",
     "start_time": "2024-05-26T04:51:10.119923Z"
    }
   },
   "source": [
    "obs0 = env.reset()\n",
    "print(\"initial observation code:\", obs0)\n",
    "\n",
    "# Note: in MountainCar, observation is just two numbers: car position and velocity"
   ],
   "outputs": [
    {
     "name": "stdout",
     "output_type": "stream",
     "text": [
      "initial observation code: (array([-0.46551406,  0.        ], dtype=float32), {})\n"
     ]
    }
   ],
   "execution_count": 5
  },
  {
   "cell_type": "code",
   "metadata": {
    "ExecuteTime": {
     "end_time": "2024-05-26T04:59:40.254070Z",
     "start_time": "2024-05-26T04:59:40.250225Z"
    }
   },
   "source": [
    "print(\"taking action 2 (right)\")\n",
    "new_obs, reward, delta, is_done, _ = env.step(2)\n",
    "\n",
    "print(\"new observation code:\", new_obs)\n",
    "print(\"reward:\", reward)\n",
    "print(\"is game over?:\", is_done)\n",
    "\n",
    "# Note: as you can see, the car has moved to the right slightly (around 0.0005)"
   ],
   "outputs": [
    {
     "name": "stdout",
     "output_type": "stream",
     "text": [
      "taking action 2 (right)\n",
      "new observation code: [-4.3415079e-01  3.3961865e-04]\n",
      "reward: -1.0\n",
      "is game over?: False\n"
     ]
    }
   ],
   "execution_count": 17
  },
  {
   "cell_type": "markdown",
   "metadata": {},
   "source": [
    "### Play with it\n",
    "\n",
    "Below is the code that drives the car to the right. However, if you simply use the default policy, the car will not reach the flag at the far right due to gravity.\n",
    "\n",
    "__Your task__ is to fix it. Find a strategy that reaches the flag. \n",
    "\n",
    "You are not required to build any sophisticated algorithms for now, and you definitely don't need to know any reinforcement learning for this. Feel free to hard-code :)"
   ]
  },
  {
   "cell_type": "code",
   "metadata": {
    "ExecuteTime": {
     "end_time": "2024-05-26T05:06:48.458105Z",
     "start_time": "2024-05-26T05:06:48.454710Z"
    }
   },
   "source": [
    "from IPython import display\n",
    "\n",
    "# Create env manually to set time limit. Please don't change this.\n",
    "TIME_LIMIT = 250\n",
    "env = gym.wrappers.TimeLimit(\n",
    "    gym.envs.classic_control.MountainCarEnv(),\n",
    "    max_episode_steps=TIME_LIMIT + 1,\n",
    ")\n",
    "actions = {'left': 0, 'stop': 1, 'right': 2}"
   ],
   "outputs": [],
   "execution_count": 25
  },
  {
   "cell_type": "code",
   "metadata": {
    "ExecuteTime": {
     "end_time": "2024-05-26T05:06:48.774112Z",
     "start_time": "2024-05-26T05:06:48.772291Z"
    }
   },
   "source": [
    "def policy(obs, t):\n",
    "    # Write the code for your policy here. You can use the observation\n",
    "    # (a tuple of position and velocity), the current time step, or both,\n",
    "    # if you want.\n",
    "    position, velocity = obs\n",
    "    if velocity > 0:\n",
    "        return 2 \n",
    "    else:\n",
    "        return 0  "
   ],
   "outputs": [],
   "execution_count": 26
  },
  {
   "cell_type": "code",
   "metadata": {},
   "source": [
    "plt.figure(figsize=(4, 3))\n",
    "display.clear_output(wait=True)\n",
    "\n",
    "obs = env.reset()\n",
    "for t in range(TIME_LIMIT):\n",
    "    print('here')\n",
    "    plt.gca().clear()\n",
    "    \n",
    "    action = policy(obs, t)  # Call your policy\n",
    "    step_result = env.step(action)\n",
    "    print(step_result)\n",
    "    obs, reward, done, info = step_result\n",
    "    \n",
    "    # We don't do anything with reward here because MountainCar is a very simple environment,\n",
    "    # and reward is a constant -1. Therefore, your goal is to end the episode as quickly as possible.\n",
    "\n",
    "    # Draw game image on display.\n",
    "    plt.imshow(env.render('rgb_array'))\n",
    "    \n",
    "    display.display(plt.gcf())\n",
    "    display.clear_output(wait=True)\n",
    "\n",
    "    if done:\n",
    "        print(\"Well done!\")\n",
    "        break\n",
    "else:\n",
    "    print(\"Time limit exceeded. Try again.\")\n",
    "\n",
    "display.clear_output(wait=True)"
   ],
   "execution_count": 30,
   "outputs": [
    {
     "ename": "TypeError",
     "evalue": "'>' not supported between instances of 'dict' and 'int'",
     "output_type": "error",
     "traceback": [
      "\u001B[0;31m---------------------------------------------------------------------------\u001B[0m",
      "\u001B[0;31mTypeError\u001B[0m                                 Traceback (most recent call last)",
      "Cell \u001B[0;32mIn[30], line 9\u001B[0m\n\u001B[1;32m      6\u001B[0m \u001B[38;5;28mprint\u001B[39m(\u001B[38;5;124m'\u001B[39m\u001B[38;5;124mhere\u001B[39m\u001B[38;5;124m'\u001B[39m)\n\u001B[1;32m      7\u001B[0m plt\u001B[38;5;241m.\u001B[39mgca()\u001B[38;5;241m.\u001B[39mclear()\n\u001B[0;32m----> 9\u001B[0m action \u001B[38;5;241m=\u001B[39m \u001B[43mpolicy\u001B[49m\u001B[43m(\u001B[49m\u001B[43mobs\u001B[49m\u001B[43m,\u001B[49m\u001B[43m \u001B[49m\u001B[43mt\u001B[49m\u001B[43m)\u001B[49m  \u001B[38;5;66;03m# Call your policy\u001B[39;00m\n\u001B[1;32m     10\u001B[0m step_result \u001B[38;5;241m=\u001B[39m env\u001B[38;5;241m.\u001B[39mstep(action)\n\u001B[1;32m     11\u001B[0m \u001B[38;5;28mprint\u001B[39m(step_result)\n",
      "Cell \u001B[0;32mIn[26], line 6\u001B[0m, in \u001B[0;36mpolicy\u001B[0;34m(obs, t)\u001B[0m\n\u001B[1;32m      1\u001B[0m \u001B[38;5;28;01mdef\u001B[39;00m \u001B[38;5;21mpolicy\u001B[39m(obs, t):\n\u001B[1;32m      2\u001B[0m     \u001B[38;5;66;03m# Write the code for your policy here. You can use the observation\u001B[39;00m\n\u001B[1;32m      3\u001B[0m     \u001B[38;5;66;03m# (a tuple of position and velocity), the current time step, or both,\u001B[39;00m\n\u001B[1;32m      4\u001B[0m     \u001B[38;5;66;03m# if you want.\u001B[39;00m\n\u001B[1;32m      5\u001B[0m     position, velocity \u001B[38;5;241m=\u001B[39m obs\n\u001B[0;32m----> 6\u001B[0m     \u001B[38;5;28;01mif\u001B[39;00m \u001B[43mvelocity\u001B[49m\u001B[43m \u001B[49m\u001B[38;5;241;43m>\u001B[39;49m\u001B[43m \u001B[49m\u001B[38;5;241;43m0\u001B[39;49m:\n\u001B[1;32m      7\u001B[0m         \u001B[38;5;28;01mreturn\u001B[39;00m \u001B[38;5;241m2\u001B[39m \n\u001B[1;32m      8\u001B[0m     \u001B[38;5;28;01melse\u001B[39;00m:\n",
      "\u001B[0;31mTypeError\u001B[0m: '>' not supported between instances of 'dict' and 'int'"
     ]
    },
    {
     "data": {
      "text/plain": [
       "<Figure size 400x300 with 1 Axes>"
      ],
      "image/png": "[encoded data removed]"
     },
     "metadata": {},
     "output_type": "display_data"
    }
   ]
  },
  {
   "cell_type": "code",
   "metadata": {
    "ExecuteTime": {
     "end_time": "2024-05-26T05:07:24.395221Z",
     "start_time": "2024-05-26T05:07:24.382203Z"
    }
   },
   "source": [
    "assert obs[0] > 0.47, f\"Final position {obs[0]} is not greater than 0.47\"\n",
    "print(\"You solved it!\")"
   ],
   "outputs": [
    {
     "ename": "ValueError",
     "evalue": "The truth value of an array with more than one element is ambiguous. Use a.any() or a.all()",
     "output_type": "error",
     "traceback": [
      "\u001B[0;31m---------------------------------------------------------------------------\u001B[0m",
      "\u001B[0;31mValueError\u001B[0m                                Traceback (most recent call last)",
      "Cell \u001B[0;32mIn[28], line 1\u001B[0m\n\u001B[0;32m----> 1\u001B[0m \u001B[38;5;28;01massert\u001B[39;00m obs[\u001B[38;5;241m0\u001B[39m] \u001B[38;5;241m>\u001B[39m \u001B[38;5;241m0.47\u001B[39m, \u001B[38;5;124mf\u001B[39m\u001B[38;5;124m\"\u001B[39m\u001B[38;5;124mFinal position \u001B[39m\u001B[38;5;132;01m{\u001B[39;00mobs[\u001B[38;5;241m0\u001B[39m]\u001B[38;5;132;01m}\u001B[39;00m\u001B[38;5;124m is not greater than 0.47\u001B[39m\u001B[38;5;124m\"\u001B[39m\n\u001B[1;32m      2\u001B[0m \u001B[38;5;28mprint\u001B[39m(\u001B[38;5;124m\"\u001B[39m\u001B[38;5;124mYou solved it!\u001B[39m\u001B[38;5;124m\"\u001B[39m)\n",
      "\u001B[0;31mValueError\u001B[0m: The truth value of an array with more than one element is ambiguous. Use a.any() or a.all()"
     ]
    }
   ],
   "execution_count": 28
  },
  {
   "cell_type": "code",
   "execution_count": null,
   "metadata": {},
   "outputs": [],
   "source": []
  }
 ],
 "metadata": {
  "kernelspec": {
   "display_name": "Python 3 (ipykernel)",
   "language": "python",
   "name": "python3"
  },
  "language_info": {
   "codemirror_mode": {
    "name": "ipython",
    "version": 3
   },
   "file_extension": ".py",
   "mimetype": "text/x-python",
   "name": "python",
   "nbconvert_exporter": "python",
   "pygments_lexer": "ipython3",
   "version": "3.8.11"
  }
 },
 "nbformat": 4,
 "nbformat_minor": 4
}
